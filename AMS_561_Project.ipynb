{
  "nbformat": 4,
  "nbformat_minor": 0,
  "metadata": {
    "colab": {
      "name": "Copy of AMS 561 Project.ipynb",
      "provenance": [],
      "collapsed_sections": []
    },
    "kernelspec": {
      "name": "python3",
      "display_name": "Python 3"
    }
  },
  "cells": [
    {
      "cell_type": "markdown",
      "metadata": {
        "id": "NILXz_145N7k",
        "colab_type": "text"
      },
      "source": [
        "We need to first understand how many changes took place between two given strings to understand the differences between inputs and outputs. We will utilize Hamming distance to understand the number of changes taken place between two strings of the same length."
      ]
    },
    {
      "cell_type": "code",
      "metadata": {
        "id": "gQ7-yoaX5B06",
        "colab_type": "code",
        "outputId": "cd585c37-508b-4770-854a-4e15b480c8b2",
        "colab": {
          "base_uri": "https://localhost:8080/",
          "height": 34
        }
      },
      "source": [
        "def hamming_distance(str1, str2):\n",
        "    \"\"\" This function implements Hamming distance between two strings.\n",
        "    \n",
        "    Arguments:\n",
        "      -- str1 (str): some input string\n",
        "      -- str2 (str): some output string\n",
        "      \n",
        "    Outputs:\n",
        "      -- int: value of the Hamming distance between str1 and str2.\n",
        "    \"\"\"\n",
        "    assert type(str1) is str and type(str2) is str and len(str1) == len(str2), \"str1 and str2 should be of the same length.\"\n",
        "    c = 0\n",
        "    for i in range(len(str1)):\n",
        "      if str1[i] != str2[i]:\n",
        "        c += 1\n",
        "    return c\n",
        "\n",
        "hamming_distance(\"abab\", \"baba\")"
      ],
      "execution_count": 0,
      "outputs": [
        {
          "output_type": "execute_result",
          "data": {
            "text/plain": [
              "4"
            ]
          },
          "metadata": {
            "tags": []
          },
          "execution_count": 9
        }
      ]
    },
    {
      "cell_type": "markdown",
      "metadata": {
        "id": "LyArIiOY52bq",
        "colab_type": "text"
      },
      "source": [
        "After getting the number of changes necessary for string 1 to get to string 2, we will loop through each index and develop a dictionary of changes. "
      ]
    },
    {
      "cell_type": "code",
      "metadata": {
        "id": "Iy6kqyVU5i1V",
        "colab_type": "code",
        "outputId": "36c9f709-a854-4510-c025-7f9b98f85bf6",
        "colab": {
          "base_uri": "https://localhost:8080/",
          "height": 35
        }
      },
      "source": [
        "def changes_in_string(str1, str2): \n",
        "\n",
        "  \"\"\" This function implements \n",
        "\n",
        "  Arguments:\n",
        "    -- str1 (str1): some input string\n",
        "    -- str2 (str2): some output string\n",
        "\n",
        "  Outputs: \n",
        "    -- dict: dictionary of the changes undergone in each string index, where keys are indeces and values are tuples of the form (old char, new char);\n",
        "  \"\"\"\n",
        "\n",
        "  # Verify equal string lengths\n",
        "  if len(str1) != len(str2):\n",
        "    raise ValueError(\"String lengths must be equal\")\n",
        "\n",
        "  # Build a dictionary of index changes\n",
        "  changes = {}\n",
        "  for i in range(len(str1)):\n",
        "    changes[i] = (str1[i], str2[i])\n",
        "  return changes\n",
        "\n",
        "\n",
        "print(changes_in_string('abab', 'aaac'))"
      ],
      "execution_count": 0,
      "outputs": [
        {
          "output_type": "stream",
          "text": [
            "{0: ('a', 'a'), 1: ('b', 'a'), 2: ('a', 'a'), 3: ('b', 'c')}\n"
          ],
          "name": "stdout"
        }
      ]
    },
    {
      "cell_type": "markdown",
      "metadata": {
        "id": "epojYuXA7KxJ",
        "colab_type": "text"
      },
      "source": [
        "In languages, often times, the input and outputs are of different lengths, especially in instances of reduplication and deletion. This means that Hamming distance would not be enough to show what changes occured between the input and outputs as it will raise an assertion when strings of different lengths occur. For this, we will turn to Levenshtein distance, which analyzes the differences of strings via a matrix. We will implement Levenshtein distance to give us the least number of edits required to get from the input string to the output string. "
      ]
    },
    {
      "cell_type": "code",
      "metadata": {
        "id": "e77ielUc70rK",
        "colab_type": "code",
        "outputId": "86afe212-c8de-473b-c973-e75b49381d3c",
        "colab": {
          "base_uri": "https://localhost:8080/",
          "height": 34
        }
      },
      "source": [
        "def levenshtein(str1, str2):\n",
        "    \"\"\"\n",
        "    This function implements the algorithm calculating\n",
        "    the minimal edit distance between two strings.\n",
        "    \n",
        "    Arguments:\n",
        "      -- str1 (str): some string\n",
        "      -- str2 (str): another string\n",
        "      \n",
        "    Outputs:\n",
        "      -- int: the smallest edit distance in-between\n",
        "              str1 and str2\n",
        "    \"\"\"\n",
        "    M = [[None for i in range(len(str1) + 1)] for j in range(len(str2) + 1)]\n",
        "    for i in range(len(str1) + 1):\n",
        "      M[0][i] = i\n",
        "    for i in range(len(str2) + 1):\n",
        "      M[i][0] = i\n",
        "    for r in range(1,len(str2) + 1):\n",
        "      for c in range(1,len(str1) + 1):\n",
        "        if str1[c-1] == str2[r-1]:\n",
        "          M[r][c] = M[r-1][c-1]\n",
        "        else:\n",
        "          M[r][c] = min(M[r-1][c-1], M[r-1][c], M[r][c-1]) + 1\n",
        "    #print(M)\n",
        "    return M[len(M) - 1][len(M[0]) - 1]\n",
        "\n",
        "levenshtein(\"abab\", \"baba\")"
      ],
      "execution_count": 0,
      "outputs": [
        {
          "output_type": "execute_result",
          "data": {
            "text/plain": [
              "2"
            ]
          },
          "metadata": {
            "tags": []
          },
          "execution_count": 10
        }
      ]
    },
    {
      "cell_type": "markdown",
      "metadata": {
        "id": "frvbmayI8dRe",
        "colab_type": "text"
      },
      "source": [
        "User interface will be used to receive the input and output strings for analysis. "
      ]
    },
    {
      "cell_type": "code",
      "metadata": {
        "id": "J80jQmUT8BAK",
        "colab_type": "code",
        "colab": {}
      },
      "source": [
        "def analyze_changes_to_strings(str1, str2): \n",
        "\"\"\" This function  takes in user input and then returns the number of changes\n",
        "needed to get from the input string to the output string. And also returns\n",
        "the listed changes between the strings.\n",
        "\n",
        "Arguments:\n",
        "      -- str1 (str): some string;\n",
        "      -- str2 (str): another string.\n",
        "      \n",
        "    Outputs:\n",
        "      -- int: the smallest edit distance in-between\n",
        "              str1 and str2.\n",
        "      -- dict: dictionary of the changes undergone through each index \n",
        "              comparison between the strings.\n",
        "\"\"\"\n",
        "\n",
        "\n",
        "  str1 = input(\"What is the input string? \")\n",
        "  str2 = input(\"What is your output string?\")\n",
        "\n",
        "  levenshtein(str1, str2)\n",
        "  changes_in_string(str1, str2)"
      ],
      "execution_count": 0,
      "outputs": []
    },
    {
      "cell_type": "markdown",
      "metadata": {
        "id": "yCPUsMnMCSSm",
        "colab_type": "text"
      },
      "source": [
        "The major problem we run into with our code is that Levenshtein will return the minimum changes necessary between string 1 and string 2 where as our `changes_in_string` function returns the changes taken place during every index, which worked well with Hamming distance. An implementation of 'changes_in_string' is necessary in order to have it work with Levenshtein distance. "
      ]
    },
    {
      "cell_type": "code",
      "metadata": {
        "id": "HmlLUhQjDS-j",
        "colab_type": "code",
        "colab": {}
      },
      "source": [
        ""
      ],
      "execution_count": 0,
      "outputs": []
    }
  ]
}